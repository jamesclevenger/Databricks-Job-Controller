{
 "cells": [
  {
   "cell_type": "markdown",
   "metadata": {
    "application/vnd.databricks.v1+cell": {
     "cellMetadata": {
      "byteLimit": 2048000,
      "rowLimit": 10000
     },
     "inputWidgets": {},
     "nuid": "edbaf782-2277-45c2-996f-3d1244a10200",
     "showTitle": false,
     "title": ""
    }
   },
   "source": [
    "# Start a Job \n",
    "1. Look for file(s) to process in landing_zone\n",
    "2. Copy to node\n",
    "3. Extract/unzip into working zone\n",
    "4. Run notebook and params from extracted job.yaml\n",
    "5. Cleanup\n",
    "\n",
    "Conventions\n",
    "* All zip files contain a job.yaml file which includes Notebook and Params sections"
   ]
  },
  {
   "cell_type": "code",
   "execution_count": 0,
   "metadata": {
    "application/vnd.databricks.v1+cell": {
     "cellMetadata": {
      "byteLimit": 2048000,
      "rowLimit": 10000
     },
     "inputWidgets": {},
     "nuid": "1bcd888e-aeb7-4128-bbcb-cbb9710fbe43",
     "showTitle": false,
     "title": ""
    }
   },
   "outputs": [
    {
     "output_type": "stream",
     "name": "stdout",
     "output_type": "stream",
     "text": [
      "FileInfo(path='s3://cg-test-bucket-1000/databricks/landing-zone/Ethiopia_Bean.zip', name='Ethiopia_Bean.zip', size=532594, modificationTime=1694179670000)\n"
     ]
    }
   ],
   "source": [
    "# for now, let's just take the first zip in the landing zone and process it\n",
    "landing_zone_path = 's3://cg-test-bucket-1000/databricks/landing-zone/'\n",
    "lz_files = dbutils.fs.ls(landing_zone_path)\n",
    "lz_zip_files = [f for f in lz_files if f.name[-4:] == '.zip']\n",
    "zipfile = lz_zip_files[0]\n",
    "print(zipfile)"
   ]
  },
  {
   "cell_type": "markdown",
   "metadata": {
    "application/vnd.databricks.v1+cell": {
     "cellMetadata": {
      "byteLimit": 2048000,
      "rowLimit": 10000
     },
     "inputWidgets": {},
     "nuid": "fc249726-7e7a-401b-b17d-7ed5f7600145",
     "showTitle": false,
     "title": ""
    }
   },
   "source": [
    "### Make a unique identifier for each job run"
   ]
  },
  {
   "cell_type": "code",
   "execution_count": 0,
   "metadata": {
    "application/vnd.databricks.v1+cell": {
     "cellMetadata": {
      "byteLimit": 2048000,
      "rowLimit": 10000
     },
     "inputWidgets": {},
     "nuid": "11f9d7db-327b-424c-836d-bfdfabe44b3b",
     "showTitle": false,
     "title": ""
    }
   },
   "outputs": [
    {
     "output_type": "stream",
     "name": "stdout",
     "output_type": "stream",
     "text": [
      "126f593f-3f5a-483d-be66-3d1a3a4554b1\n"
     ]
    }
   ],
   "source": [
    "import uuid\n",
    "\n",
    "jobid = uuid.uuid4()\n",
    "print(jobid)"
   ]
  },
  {
   "cell_type": "markdown",
   "metadata": {
    "application/vnd.databricks.v1+cell": {
     "cellMetadata": {
      "byteLimit": 2048000,
      "rowLimit": 10000
     },
     "inputWidgets": {},
     "nuid": "34190b52-35b2-4075-97ee-14e1c558ed93",
     "showTitle": false,
     "title": ""
    }
   },
   "source": [
    "### Extract zip file to temporary directory"
   ]
  },
  {
   "cell_type": "code",
   "execution_count": 0,
   "metadata": {
    "application/vnd.databricks.v1+cell": {
     "cellMetadata": {
      "byteLimit": 2048000,
      "rowLimit": 10000
     },
     "inputWidgets": {},
     "nuid": "dbf6a1b8-7df3-440a-a34b-82a9b41fb654",
     "showTitle": false,
     "title": ""
    }
   },
   "outputs": [
    {
     "output_type": "stream",
     "name": "stdout",
     "output_type": "stream",
     "text": [
      "copying s3://cg-test-bucket-1000/databricks/landing-zone/Ethiopia_Bean.zip  into  /tmp/126f593f-3f5a-483d-be66-3d1a3a4554b1/Ethiopia_Bean.zip\n"
     ]
    }
   ],
   "source": [
    "## do work in tmp in dbfs - consider move to s3 working-zone?\n",
    "jobfolder = '/tmp/' + str(jobid)\n",
    "dbutils.fs.mkdirs(jobfolder)\n",
    "dbfs_zip_path = jobfolder + '/' + zipfile.name\n",
    "dbutils.fs.cp(zipfile.path, dbfs_zip_path)\n",
    "print ('copying', zipfile.path, ' into ', dbfs_zip_path)"
   ]
  },
  {
   "cell_type": "code",
   "execution_count": 0,
   "metadata": {
    "application/vnd.databricks.v1+cell": {
     "cellMetadata": {
      "byteLimit": 2048000,
      "rowLimit": 10000
     },
     "inputWidgets": {},
     "nuid": "997b803a-abfd-47f2-87ed-1469b969f64b",
     "showTitle": false,
     "title": ""
    }
   },
   "outputs": [
    {
     "output_type": "stream",
     "name": "stdout",
     "output_type": "stream",
     "text": [
      "Out[4]: 'Archive:  /dbfs/tmp/126f593f-3f5a-483d-be66-3d1a3a4554b1/Ethiopia_Bean.zip\\n  inflating: /dbfs/tmp/126f593f-3f5a-483d-be66-3d1a3a4554b1/unzipped/FieldSamples_Ethiopia_Bean.csv  \\n  inflating: /dbfs/tmp/126f593f-3f5a-483d-be66-3d1a3a4554b1/unzipped/GeneticReference_Ethiopia_Bean.csv  \\n  inflating: /dbfs/tmp/126f593f-3f5a-483d-be66-3d1a3a4554b1/unzipped/job.yaml  \\n'"
     ]
    }
   ],
   "source": [
    "# now unzip it\n",
    "import os\n",
    "#os.popen('ls /dbfs/tmp/*/*.zip').read()\n",
    "unzipped_folder = '/dbfs' + jobfolder + '/unzipped'\n",
    "os.popen('unzip /dbfs' + jobfolder + '/' + zipfile.name + ' -d ' + unzipped_folder).read()"
   ]
  },
  {
   "cell_type": "code",
   "execution_count": 0,
   "metadata": {
    "application/vnd.databricks.v1+cell": {
     "cellMetadata": {
      "byteLimit": 2048000,
      "rowLimit": 10000
     },
     "inputWidgets": {},
     "nuid": "ccdea6f3-09fc-4486-ad52-fe0ee9118ca7",
     "showTitle": false,
     "title": ""
    }
   },
   "outputs": [
    {
     "output_type": "stream",
     "name": "stdout",
     "output_type": "stream",
     "text": [
      "Out[5]: [FileInfo(path='dbfs:/tmp/0a65eb1d-da56-48bd-b61c-304fd6db9b49/', name='0a65eb1d-da56-48bd-b61c-304fd6db9b49/', size=0, modificationTime=1694179897968),\n FileInfo(path='dbfs:/tmp/126f593f-3f5a-483d-be66-3d1a3a4554b1/', name='126f593f-3f5a-483d-be66-3d1a3a4554b1/', size=0, modificationTime=1694179897968),\n FileInfo(path='dbfs:/tmp/27ef151d-371a-4b9e-9a06-62d1a28cf62d/', name='27ef151d-371a-4b9e-9a06-62d1a28cf62d/', size=0, modificationTime=1694179897968),\n FileInfo(path='dbfs:/tmp/3153b9d1-7d8e-4a38-ab7f-ac90e73d34e4/', name='3153b9d1-7d8e-4a38-ab7f-ac90e73d34e4/', size=0, modificationTime=1694179897968),\n FileInfo(path='dbfs:/tmp/453de1ef-9da8-48aa-95c9-ed65197f55c6/', name='453de1ef-9da8-48aa-95c9-ed65197f55c6/', size=0, modificationTime=1694179897968),\n FileInfo(path='dbfs:/tmp/4e8b9afa-d1f5-48b7-8172-2e3530f9cf82/', name='4e8b9afa-d1f5-48b7-8172-2e3530f9cf82/', size=0, modificationTime=1694179897968),\n FileInfo(path='dbfs:/tmp/52faf005-fdd5-468b-83e9-e4822504df97/', name='52faf005-fdd5-468b-83e9-e4822504df97/', size=0, modificationTime=1694179897968),\n FileInfo(path='dbfs:/tmp/61ef3433-2a48-4a66-80b9-74d3e4db81ab/', name='61ef3433-2a48-4a66-80b9-74d3e4db81ab/', size=0, modificationTime=1694179897968),\n FileInfo(path='dbfs:/tmp/83cf156c-66eb-4686-b3da-b36500835eb3/', name='83cf156c-66eb-4686-b3da-b36500835eb3/', size=0, modificationTime=1694179897968),\n FileInfo(path='dbfs:/tmp/91c33f03-ec53-4156-aa9c-192e2a4eb998/', name='91c33f03-ec53-4156-aa9c-192e2a4eb998/', size=0, modificationTime=1694179897968),\n FileInfo(path='dbfs:/tmp/969559ce-9cd8-4f70-b213-4a051a3a43cf/', name='969559ce-9cd8-4f70-b213-4a051a3a43cf/', size=0, modificationTime=1694179897968),\n FileInfo(path='dbfs:/tmp/a055fc25-50e3-492b-953a-113a9ca2f1ba/', name='a055fc25-50e3-492b-953a-113a9ca2f1ba/', size=0, modificationTime=1694179897968),\n FileInfo(path='dbfs:/tmp/c2652d48-5f09-4b15-b3fe-35723b4e3097/', name='c2652d48-5f09-4b15-b3fe-35723b4e3097/', size=0, modificationTime=1694179897968),\n FileInfo(path='dbfs:/tmp/cef31c8d-5c06-4679-87ad-6e0112ca168e/', name='cef31c8d-5c06-4679-87ad-6e0112ca168e/', size=0, modificationTime=1694179897968),\n FileInfo(path='dbfs:/tmp/d418721e-745e-4290-9a45-7d5e90254d1a/', name='d418721e-745e-4290-9a45-7d5e90254d1a/', size=0, modificationTime=1694179897968),\n FileInfo(path='dbfs:/tmp/dd6fb1d8-9d71-43c0-b91a-a6f401c4b936/', name='dd6fb1d8-9d71-43c0-b91a-a6f401c4b936/', size=0, modificationTime=1694179897968),\n FileInfo(path='dbfs:/tmp/e0ef5814-45e5-4c56-aa25-563e7b8bdad2/', name='e0ef5814-45e5-4c56-aa25-563e7b8bdad2/', size=0, modificationTime=1694179897968),\n FileInfo(path='dbfs:/tmp/f7943708-1dcd-44c3-ac4c-c987080d2b43/', name='f7943708-1dcd-44c3-ac4c-c987080d2b43/', size=0, modificationTime=1694179897968),\n FileInfo(path='dbfs:/tmp/test.gds', name='test.gds', size=0, modificationTime=1693582947000)]"
     ]
    }
   ],
   "source": [
    "dbutils.fs.ls('/tmp/')"
   ]
  },
  {
   "cell_type": "markdown",
   "metadata": {
    "application/vnd.databricks.v1+cell": {
     "cellMetadata": {
      "byteLimit": 2048000,
      "rowLimit": 10000
     },
     "inputWidgets": {},
     "nuid": "74e9befc-9aef-4ff3-8981-b20f135de014",
     "showTitle": false,
     "title": ""
    }
   },
   "source": [
    "### Read the yaml file for parameters"
   ]
  },
  {
   "cell_type": "code",
   "execution_count": 0,
   "metadata": {
    "application/vnd.databricks.v1+cell": {
     "cellMetadata": {
      "byteLimit": 2048000,
      "rowLimit": 10000
     },
     "inputWidgets": {},
     "nuid": "fe907f31-deb6-467e-835c-d4b68cb75507",
     "showTitle": false,
     "title": ""
    }
   },
   "outputs": [
    {
     "output_type": "stream",
     "name": "stdout",
     "output_type": "stream",
     "text": [
      "Collecting pyyaml\n  Downloading PyYAML-6.0.1-cp39-cp39-manylinux_2_17_x86_64.manylinux2014_x86_64.whl (738 kB)\nInstalling collected packages: pyyaml\nSuccessfully installed pyyaml-6.0.1\nWARNING: You are using pip version 21.2.4; however, version 23.2.1 is available.\nYou should consider upgrading via the '/local_disk0/.ephemeral_nfs/envs/pythonEnv-46aaa81a-bb69-4924-a835-2967b82a9a23/bin/python -m pip install --upgrade pip' command.\n"
     ]
    }
   ],
   "source": [
    "%sh\n",
    "pip install pyyaml"
   ]
  },
  {
   "cell_type": "code",
   "execution_count": 0,
   "metadata": {
    "application/vnd.databricks.v1+cell": {
     "cellMetadata": {
      "byteLimit": 2048000,
      "rowLimit": 10000
     },
     "inputWidgets": {},
     "nuid": "b9dca13c-fc5c-4187-82ab-2f586a991e66",
     "showTitle": false,
     "title": ""
    }
   },
   "outputs": [
    {
     "output_type": "stream",
     "name": "stdout",
     "output_type": "stream",
     "text": [
      "{'Job': {'Description': 'runs IMAGE IBS Analysis', 'Notebook': 'IBS_Analysis', 'Parameters': [{'ref_file': 'GeneticReference_Ethiopia_Bean.csv'}, {'field_file': 'FieldSamples_Ethiopia_Bean.csv'}, {'country': 'Ethiopia'}, {'crop': 'Bean'}]}}\n"
     ]
    }
   ],
   "source": [
    "import yaml\n",
    "\n",
    "with open('/dbfs/tmp/' + str(jobid) + '/unzipped/job.yaml', 'r') as file:\n",
    "    job = yaml.safe_load(file)\n",
    "\n",
    "print(job)"
   ]
  },
  {
   "cell_type": "markdown",
   "metadata": {
    "application/vnd.databricks.v1+cell": {
     "cellMetadata": {
      "byteLimit": 2048000,
      "rowLimit": 10000
     },
     "inputWidgets": {},
     "nuid": "002943b9-92c8-4689-9966-68465aa38a86",
     "showTitle": false,
     "title": ""
    }
   },
   "source": [
    "### Add extra 'standard' parameters"
   ]
  },
  {
   "cell_type": "code",
   "execution_count": 0,
   "metadata": {
    "application/vnd.databricks.v1+cell": {
     "cellMetadata": {
      "byteLimit": 2048000,
      "rowLimit": 10000
     },
     "inputWidgets": {},
     "nuid": "52ce3f77-c23e-4723-a09f-b861d55c9553",
     "showTitle": false,
     "title": ""
    }
   },
   "outputs": [],
   "source": [
    "from collections import ChainMap\n",
    "params_as_dict = dict(ChainMap(*job['Job']['Parameters']))"
   ]
  },
  {
   "cell_type": "code",
   "execution_count": 0,
   "metadata": {
    "application/vnd.databricks.v1+cell": {
     "cellMetadata": {
      "byteLimit": 2048000,
      "rowLimit": 10000
     },
     "inputWidgets": {},
     "nuid": "adc9adec-76f0-4e69-9372-63e03b6c63d1",
     "showTitle": false,
     "title": ""
    }
   },
   "outputs": [
    {
     "output_type": "stream",
     "name": "stdout",
     "output_type": "stream",
     "text": [
      "{'crop': 'Bean', 'country': 'Ethiopia', 'field_file': 'FieldSamples_Ethiopia_Bean.csv', 'ref_file': 'GeneticReference_Ethiopia_Bean.csv', 'unzipped_folder': '/tmp/126f593f-3f5a-483d-be66-3d1a3a4554b1/unzipped', 'jobid': '126f593f-3f5a-483d-be66-3d1a3a4554b1'}\n"
     ]
    }
   ],
   "source": [
    "params_as_dict['unzipped_folder'] = '/tmp/' + str(jobid) + '/unzipped'\n",
    "params_as_dict['jobid'] = str(jobid)\n",
    "print(params_as_dict)"
   ]
  },
  {
   "cell_type": "markdown",
   "metadata": {
    "application/vnd.databricks.v1+cell": {
     "cellMetadata": {
      "byteLimit": 2048000,
      "rowLimit": 10000
     },
     "inputWidgets": {},
     "nuid": "57d456e1-0119-4430-8e73-00dcae6edbd9",
     "showTitle": false,
     "title": ""
    }
   },
   "source": [
    "### Execute Notebook"
   ]
  },
  {
   "cell_type": "code",
   "execution_count": 0,
   "metadata": {
    "application/vnd.databricks.v1+cell": {
     "cellMetadata": {
      "byteLimit": 2048000,
      "rowLimit": 10000
     },
     "inputWidgets": {},
     "nuid": "08ad6b94-2e80-4048-81d4-37defb4869d0",
     "showTitle": false,
     "title": ""
    }
   },
   "outputs": [],
   "source": [
    "dbutils.notebook.run(job['Job']['Notebook'], 600, {\"params\": str(params_as_dict)})"
   ]
  },
  {
   "cell_type": "markdown",
   "metadata": {
    "application/vnd.databricks.v1+cell": {
     "cellMetadata": {
      "byteLimit": 2048000,
      "rowLimit": 10000
     },
     "inputWidgets": {},
     "nuid": "a5368dac-ed68-43c0-b61c-1830009d9381",
     "showTitle": false,
     "title": ""
    }
   },
   "source": [
    "### Remove from temp, save to archive, remove from landing zone"
   ]
  },
  {
   "cell_type": "code",
   "execution_count": 0,
   "metadata": {
    "application/vnd.databricks.v1+cell": {
     "cellMetadata": {
      "byteLimit": 2048000,
      "rowLimit": 10000
     },
     "inputWidgets": {},
     "nuid": "7b999737-68cc-4b03-acce-06696ce7023c",
     "showTitle": false,
     "title": ""
    }
   },
   "outputs": [
    {
     "output_type": "stream",
     "name": "stdout",
     "output_type": "stream",
     "text": [
      "Out[11]: True"
     ]
    }
   ],
   "source": [
    "#cleanup - remove from tmp\n",
    "dbutils.fs.rm('/tmp/' + str(jobid), True)"
   ]
  },
  {
   "cell_type": "code",
   "execution_count": 0,
   "metadata": {
    "application/vnd.databricks.v1+cell": {
     "cellMetadata": {
      "byteLimit": 2048000,
      "rowLimit": 10000
     },
     "inputWidgets": {},
     "nuid": "7ccbfc16-59c0-428b-9409-0e0a941f9681",
     "showTitle": false,
     "title": ""
    }
   },
   "outputs": [
    {
     "output_type": "stream",
     "name": "stdout",
     "output_type": "stream",
     "text": [
      "Out[12]: True"
     ]
    }
   ],
   "source": [
    "#move to archive?\n",
    "archive_path = 's3://cg-test-bucket-1000/databricks/archive/' + str(jobid) + '/'+ zipfile.name\n",
    "dbutils.fs.cp(landing_zone_path + zipfile.name, archive_path)"
   ]
  },
  {
   "cell_type": "code",
   "execution_count": 0,
   "metadata": {
    "application/vnd.databricks.v1+cell": {
     "cellMetadata": {
      "byteLimit": 2048000,
      "rowLimit": 10000
     },
     "inputWidgets": {},
     "nuid": "27991e0d-fddc-4c7d-a213-815ab44bd57d",
     "showTitle": false,
     "title": ""
    }
   },
   "outputs": [
    {
     "output_type": "stream",
     "name": "stdout",
     "output_type": "stream",
     "text": [
      "Out[13]: True"
     ]
    }
   ],
   "source": [
    "#cleanup - remove from s3\n",
    "dbutils.fs.rm(landing_zone_path + zipfile.name)"
   ]
  }
 ],
 "metadata": {
  "application/vnd.databricks.v1+notebook": {
   "dashboards": [],
   "language": "python",
   "notebookMetadata": {
    "mostRecentlyExecutedCommandWithImplicitDF": {
     "commandId": 3804885441326599,
     "dataframes": [
      "_sqldf"
     ]
    },
    "pythonIndentUnit": 4
   },
   "notebookName": "Job File Start",
   "widgets": {}
  }
 },
 "nbformat": 4,
 "nbformat_minor": 0
}
