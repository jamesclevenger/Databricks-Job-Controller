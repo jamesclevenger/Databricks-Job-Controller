{
 "cells": [
  {
   "cell_type": "markdown",
   "metadata": {
    "application/vnd.databricks.v1+cell": {
     "cellMetadata": {
      "byteLimit": 2048000,
      "rowLimit": 10000
     },
     "inputWidgets": {},
     "nuid": "edbaf782-2277-45c2-996f-3d1244a10200",
     "showTitle": false,
     "title": ""
    }
   },
   "source": [
    "# Start a Job \n",
    "1. Look for file(s) to process in landing_zone\n",
    "2. Copy to node\n",
    "3. Extract/unzip into working zone\n",
    "4. Run notebook and params from extracted job.yaml\n",
    "5. Cleanup\n",
    "\n",
    "Conventions\n",
    "* All zip files contain a job.yaml file which includes Notebook and Params sections"
   ]
  },
  {
   "cell_type": "code",
   "execution_count": 0,
   "metadata": {
    "application/vnd.databricks.v1+cell": {
     "cellMetadata": {
      "byteLimit": 2048000,
      "rowLimit": 10000
     },
     "inputWidgets": {},
     "nuid": "1bcd888e-aeb7-4128-bbcb-cbb9710fbe43",
     "showTitle": false,
     "title": ""
    }
   },
   "outputs": [],
   "source": [
    "# for now, let's just take the first zip in the landing zone and process it\n",
    "landing_zone_path = 's3://cg-test-bucket-1000/databricks/landing-zone/'\n",
    "lz_files = dbutils.fs.ls(landing_zone_path)\n",
    "lz_zip_files = [f for f in lz_files if f.name[-4:] == '.zip']\n",
    "zipfile = lz_zip_files[0]\n",
    "print(zipfile)"
   ]
  },
  {
   "cell_type": "markdown",
   "metadata": {
    "application/vnd.databricks.v1+cell": {
     "cellMetadata": {
      "byteLimit": 2048000,
      "rowLimit": 10000
     },
     "inputWidgets": {},
     "nuid": "fc249726-7e7a-401b-b17d-7ed5f7600145",
     "showTitle": false,
     "title": ""
    }
   },
   "source": [
    "### Make a unique identifier for each job run"
   ]
  },
  {
   "cell_type": "code",
   "execution_count": 0,
   "metadata": {
    "application/vnd.databricks.v1+cell": {
     "cellMetadata": {
      "byteLimit": 2048000,
      "rowLimit": 10000
     },
     "inputWidgets": {},
     "nuid": "11f9d7db-327b-424c-836d-bfdfabe44b3b",
     "showTitle": false,
     "title": ""
    }
   },
   "outputs": [],
   "source": [
    "import uuid\n",
    "\n",
    "jobid = uuid.uuid4()\n",
    "print(jobid)"
   ]
  },
  {
   "cell_type": "markdown",
   "metadata": {
    "application/vnd.databricks.v1+cell": {
     "cellMetadata": {
      "byteLimit": 2048000,
      "rowLimit": 10000
     },
     "inputWidgets": {},
     "nuid": "34190b52-35b2-4075-97ee-14e1c558ed93",
     "showTitle": false,
     "title": ""
    }
   },
   "source": [
    "### Extract zip file to temporary directory"
   ]
  },
  {
   "cell_type": "code",
   "execution_count": 0,
   "metadata": {
    "application/vnd.databricks.v1+cell": {
     "cellMetadata": {
      "byteLimit": 2048000,
      "rowLimit": 10000
     },
     "inputWidgets": {},
     "nuid": "dbf6a1b8-7df3-440a-a34b-82a9b41fb654",
     "showTitle": false,
     "title": ""
    }
   },
   "outputs": [],
   "source": [
    "## do work in tmp in dbfs - consider move to s3 working-zone?\n",
    "jobfolder = '/tmp/' + str(jobid)\n",
    "dbutils.fs.mkdirs(jobfolder)\n",
    "dbfs_zip_path = jobfolder + '/' + zipfile.name\n",
    "dbutils.fs.cp(zipfile.path, dbfs_zip_path)\n",
    "print ('copying', zipfile.path, ' into ', dbfs_zip_path)"
   ]
  },
  {
   "cell_type": "code",
   "execution_count": 0,
   "metadata": {
    "application/vnd.databricks.v1+cell": {
     "cellMetadata": {
      "byteLimit": 2048000,
      "rowLimit": 10000
     },
     "inputWidgets": {},
     "nuid": "997b803a-abfd-47f2-87ed-1469b969f64b",
     "showTitle": false,
     "title": ""
    }
   },
   "outputs": [],
   "source": [
    "# now unzip it\n",
    "import os\n",
    "#os.popen('ls /dbfs/tmp/*/*.zip').read()\n",
    "unzipped_folder = '/dbfs' + jobfolder + '/unzipped'\n",
    "os.popen('unzip /dbfs' + jobfolder + '/' + zipfile.name + ' -d ' + unzipped_folder).read()"
   ]
  },
  {
   "cell_type": "code",
   "execution_count": 0,
   "metadata": {
    "application/vnd.databricks.v1+cell": {
     "cellMetadata": {
      "byteLimit": 2048000,
      "rowLimit": 10000
     },
     "inputWidgets": {},
     "nuid": "ccdea6f3-09fc-4486-ad52-fe0ee9118ca7",
     "showTitle": false,
     "title": ""
    }
   },
   "outputs": [],
   "source": [
    "dbutils.fs.ls('/tmp/')"
   ]
  },
  {
   "cell_type": "markdown",
   "metadata": {
    "application/vnd.databricks.v1+cell": {
     "cellMetadata": {
      "byteLimit": 2048000,
      "rowLimit": 10000
     },
     "inputWidgets": {},
     "nuid": "74e9befc-9aef-4ff3-8981-b20f135de014",
     "showTitle": false,
     "title": ""
    }
   },
   "source": [
    "### Read the yaml file for parameters"
   ]
  },
  {
   "cell_type": "code",
   "execution_count": 0,
   "metadata": {
    "application/vnd.databricks.v1+cell": {
     "cellMetadata": {
      "byteLimit": 2048000,
      "rowLimit": 10000
     },
     "inputWidgets": {},
     "nuid": "fe907f31-deb6-467e-835c-d4b68cb75507",
     "showTitle": false,
     "title": ""
    }
   },
   "outputs": [],
   "source": [
    "%sh\n",
    "pip install pyyaml"
   ]
  },
  {
   "cell_type": "code",
   "execution_count": 0,
   "metadata": {
    "application/vnd.databricks.v1+cell": {
     "cellMetadata": {
      "byteLimit": 2048000,
      "rowLimit": 10000
     },
     "inputWidgets": {},
     "nuid": "b9dca13c-fc5c-4187-82ab-2f586a991e66",
     "showTitle": false,
     "title": ""
    }
   },
   "outputs": [],
   "source": [
    "import yaml\n",
    "\n",
    "with open('/dbfs/tmp/' + str(jobid) + '/unzipped/job.yaml', 'r') as file:\n",
    "    job = yaml.safe_load(file)\n",
    "\n",
    "print(job)"
   ]
  },
  {
   "cell_type": "markdown",
   "metadata": {
    "application/vnd.databricks.v1+cell": {
     "cellMetadata": {
      "byteLimit": 2048000,
      "rowLimit": 10000
     },
     "inputWidgets": {},
     "nuid": "002943b9-92c8-4689-9966-68465aa38a86",
     "showTitle": false,
     "title": ""
    }
   },
   "source": [
    "### Add extra 'standard' parameters"
   ]
  },
  {
   "cell_type": "code",
   "execution_count": 0,
   "metadata": {
    "application/vnd.databricks.v1+cell": {
     "cellMetadata": {
      "byteLimit": 2048000,
      "rowLimit": 10000
     },
     "inputWidgets": {},
     "nuid": "52ce3f77-c23e-4723-a09f-b861d55c9553",
     "showTitle": false,
     "title": ""
    }
   },
   "outputs": [],
   "source": [
    "from collections import ChainMap\n",
    "params_as_dict = dict(ChainMap(*job['Job']['Parameters']))"
   ]
  },
  {
   "cell_type": "code",
   "execution_count": 0,
   "metadata": {
    "application/vnd.databricks.v1+cell": {
     "cellMetadata": {
      "byteLimit": 2048000,
      "rowLimit": 10000
     },
     "inputWidgets": {},
     "nuid": "adc9adec-76f0-4e69-9372-63e03b6c63d1",
     "showTitle": false,
     "title": ""
    }
   },
   "outputs": [],
   "source": [
    "params_as_dict['unzipped_folder'] = '/tmp/' + str(jobid) + '/unzipped'\n",
    "params_as_dict['jobid'] = str(jobid)\n",
    "print(params_as_dict)"
   ]
  },
  {
   "cell_type": "markdown",
   "metadata": {
    "application/vnd.databricks.v1+cell": {
     "cellMetadata": {
      "byteLimit": 2048000,
      "rowLimit": 10000
     },
     "inputWidgets": {},
     "nuid": "57d456e1-0119-4430-8e73-00dcae6edbd9",
     "showTitle": false,
     "title": ""
    }
   },
   "source": [
    "### Execute Notebook"
   ]
  },
  {
   "cell_type": "code",
   "execution_count": 0,
   "metadata": {
    "application/vnd.databricks.v1+cell": {
     "cellMetadata": {
      "byteLimit": 2048000,
      "rowLimit": 10000
     },
     "inputWidgets": {},
     "nuid": "08ad6b94-2e80-4048-81d4-37defb4869d0",
     "showTitle": false,
     "title": ""
    }
   },
   "outputs": [],
   "source": [
    "dbutils.notebook.run(job['Job']['Notebook'], 600, {\"params\": str(params_as_dict)})"
   ]
  },
  {
   "cell_type": "markdown",
   "metadata": {
    "application/vnd.databricks.v1+cell": {
     "cellMetadata": {
      "byteLimit": 2048000,
      "rowLimit": 10000
     },
     "inputWidgets": {},
     "nuid": "a5368dac-ed68-43c0-b61c-1830009d9381",
     "showTitle": false,
     "title": ""
    }
   },
   "source": [
    "### Remove from temp, save to archive, remove from landing zone"
   ]
  },
  {
   "cell_type": "code",
   "execution_count": 0,
   "metadata": {
    "application/vnd.databricks.v1+cell": {
     "cellMetadata": {
      "byteLimit": 2048000,
      "rowLimit": 10000
     },
     "inputWidgets": {},
     "nuid": "7b999737-68cc-4b03-acce-06696ce7023c",
     "showTitle": false,
     "title": ""
    }
   },
   "outputs": [],
   "source": [
    "#cleanup - remove from tmp\n",
    "dbutils.fs.rm('/tmp/' + str(jobid), True)"
   ]
  },
  {
   "cell_type": "code",
   "execution_count": 0,
   "metadata": {
    "application/vnd.databricks.v1+cell": {
     "cellMetadata": {
      "byteLimit": 2048000,
      "rowLimit": 10000
     },
     "inputWidgets": {},
     "nuid": "7ccbfc16-59c0-428b-9409-0e0a941f9681",
     "showTitle": false,
     "title": ""
    }
   },
   "outputs": [],
   "source": [
    "#move to archive?\n",
    "archive_path = 's3://cg-test-bucket-1000/databricks/archive/' + str(jobid) + '/'+ zipfile.name\n",
    "dbutils.fs.cp(landing_zone_path + zipfile.name, archive_path)"
   ]
  },
  {
   "cell_type": "code",
   "execution_count": 0,
   "metadata": {
    "application/vnd.databricks.v1+cell": {
     "cellMetadata": {
      "byteLimit": 2048000,
      "rowLimit": 10000
     },
     "inputWidgets": {},
     "nuid": "27991e0d-fddc-4c7d-a213-815ab44bd57d",
     "showTitle": false,
     "title": ""
    }
   },
   "outputs": [],
   "source": [
    "#cleanup - remove from s3\n",
    "dbutils.fs.rm(landing_zone_path + zipfile.name)"
   ]
  }
 ],
 "metadata": {
  "application/vnd.databricks.v1+notebook": {
   "dashboards": [],
   "language": "python",
   "notebookMetadata": {
    "mostRecentlyExecutedCommandWithImplicitDF": {
     "commandId": 3804885441326599,
     "dataframes": [
      "_sqldf"
     ]
    },
    "pythonIndentUnit": 4
   },
   "notebookName": "Job File Start",
   "widgets": {}
  }
 },
 "nbformat": 4,
 "nbformat_minor": 0
}
