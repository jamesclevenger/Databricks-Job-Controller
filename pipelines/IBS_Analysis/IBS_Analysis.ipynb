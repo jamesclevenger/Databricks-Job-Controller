{
 "cells": [
  {
   "cell_type": "markdown",
   "metadata": {
    "application/vnd.databricks.v1+cell": {
     "cellMetadata": {
      "byteLimit": 2048000,
      "rowLimit": 10000
     },
     "inputWidgets": {},
     "nuid": "22863b29-e7c5-47af-8688-fc4eb387bf8e",
     "showTitle": false,
     "title": ""
    }
   },
   "source": [
    "# One stop R pipeline for matching and reporting\n",
    "* output: Excel result file\n",
    "* author: \"Jinliang Yang\"\n",
    "* date: 04-30-2023\n",
    "* adapted for Databricks - James Clevenger Aug-23\n"
   ]
  },
  {
   "cell_type": "code",
   "execution_count": 0,
   "metadata": {
    "application/vnd.databricks.v1+cell": {
     "cellMetadata": {
      "byteLimit": 2048000,
      "rowLimit": 10000
     },
     "inputWidgets": {},
     "nuid": "34afd6ae-e04d-4821-9cce-0751cfc7677b",
     "showTitle": false,
     "title": ""
    }
   },
   "outputs": [],
   "source": [
    "dbutils.widgets.text(\"params\", \"\")\n",
    "dbutils.widgets.get(\"params\")"
   ]
  },
  {
   "cell_type": "code",
   "execution_count": 0,
   "metadata": {
    "application/vnd.databricks.v1+cell": {
     "cellMetadata": {
      "byteLimit": 2048000,
      "rowLimit": 10000
     },
     "inputWidgets": {},
     "nuid": "06deebb6-04d4-41cf-9ee8-9474235b6243",
     "showTitle": false,
     "title": ""
    }
   },
   "outputs": [],
   "source": [
    "params = eval(dbutils.widgets.get(\"params\"))\n",
    "params\n",
    "\n",
    "#params['unzipped_folder'] + '/' + params['ref_file'])\n",
    "#params['unzipped_folder'] + '/' + params['field_file'])"
   ]
  },
  {
   "cell_type": "code",
   "execution_count": 0,
   "metadata": {
    "application/vnd.databricks.v1+cell": {
     "cellMetadata": {
      "byteLimit": 2048000,
      "rowLimit": 10000
     },
     "inputWidgets": {},
     "nuid": "b25f9b08-9e77-413d-b24a-72d29c8433be",
     "showTitle": false,
     "title": ""
    }
   },
   "outputs": [],
   "source": [
    "%r\n",
    "install.packages(\"rjson\")\n",
    "library(\"rjson\")"
   ]
  },
  {
   "cell_type": "code",
   "execution_count": 0,
   "metadata": {
    "application/vnd.databricks.v1+cell": {
     "cellMetadata": {
      "byteLimit": 2048000,
      "rowLimit": 10000
     },
     "inputWidgets": {},
     "nuid": "ddd2359b-5fe5-4d69-9945-8383a1470cd1",
     "showTitle": false,
     "title": ""
    }
   },
   "outputs": [],
   "source": [
    "%r\n",
    "myParams <- fromJSON(gsub(\"'\", '\"', dbutils.widgets.get(\"params\")))"
   ]
  },
  {
   "cell_type": "code",
   "execution_count": 0,
   "metadata": {
    "application/vnd.databricks.v1+cell": {
     "cellMetadata": {
      "byteLimit": 2048000,
      "rowLimit": 10000
     },
     "inputWidgets": {},
     "nuid": "f31f13b3-ba4a-4774-a372-4cdbe7e09f70",
     "showTitle": false,
     "title": ""
    }
   },
   "outputs": [],
   "source": [
    "%r\n",
    "ref_file_path = paste0('/dbfs', myParams['unzipped_folder'], '/', myParams['ref_file'])\n",
    "field_file_path = paste0('/dbfs', myParams['unzipped_folder'], '/', myParams['field_file'])\n",
    "country = myParams['country']\n",
    "crop = myParams['crop']\n",
    "jobid = myParams['jobid']\n",
    "outdir = './output'"
   ]
  },
  {
   "cell_type": "code",
   "execution_count": 0,
   "metadata": {
    "application/vnd.databricks.v1+cell": {
     "cellMetadata": {
      "byteLimit": 2048000,
      "rowLimit": 10000
     },
     "inputWidgets": {},
     "nuid": "883291c5-ecf7-4288-9b33-2e757cbf55e9",
     "showTitle": false,
     "title": ""
    }
   },
   "outputs": [],
   "source": [
    "%r\n",
    "ref_file_path"
   ]
  },
  {
   "cell_type": "code",
   "execution_count": 0,
   "metadata": {
    "application/vnd.databricks.v1+cell": {
     "cellMetadata": {
      "byteLimit": 2048000,
      "rowLimit": 10000
     },
     "inputWidgets": {},
     "nuid": "87da00bc-b99a-4c97-b40d-4c0b969c5285",
     "showTitle": false,
     "title": ""
    }
   },
   "outputs": [],
   "source": [
    "%r\n",
    "field_file_path"
   ]
  },
  {
   "cell_type": "code",
   "execution_count": 0,
   "metadata": {
    "application/vnd.databricks.v1+cell": {
     "cellMetadata": {
      "byteLimit": 2048000,
      "rowLimit": 10000
     },
     "inputWidgets": {},
     "nuid": "901469ab-bc14-4469-a254-3acc81924eb6",
     "showTitle": false,
     "title": ""
    }
   },
   "outputs": [],
   "source": [
    "%r\n",
    "outdir"
   ]
  },
  {
   "cell_type": "code",
   "execution_count": 0,
   "metadata": {
    "application/vnd.databricks.v1+cell": {
     "cellMetadata": {
      "byteLimit": 2048000,
      "rowLimit": 10000
     },
     "inputWidgets": {},
     "nuid": "ee529419-9248-4c1c-942a-0d0d0b67f675",
     "showTitle": false,
     "title": ""
    }
   },
   "outputs": [],
   "source": [
    "%r\n",
    "file.path(outdir, paste0(\"out_prefix\", \"_geno.gds\"))"
   ]
  },
  {
   "cell_type": "markdown",
   "metadata": {
    "application/vnd.databricks.v1+cell": {
     "cellMetadata": {
      "byteLimit": 2048000,
      "rowLimit": 10000
     },
     "inputWidgets": {},
     "nuid": "b327ee70-2150-4ce2-8fe4-9d8f86bfc3f4",
     "showTitle": false,
     "title": ""
    }
   },
   "source": [
    "## Path normalization"
   ]
  },
  {
   "cell_type": "code",
   "execution_count": 0,
   "metadata": {
    "application/vnd.databricks.v1+cell": {
     "cellMetadata": {
      "byteLimit": 2048000,
      "rowLimit": 10000
     },
     "inputWidgets": {},
     "nuid": "f206c0b1-9587-4686-80e6-5f31d98b2e18",
     "showTitle": false,
     "title": ""
    }
   },
   "outputs": [],
   "source": [
    "%r\n",
    "#{r setup}\n",
    "#knitr::opts_chunk$set(echo = TRUE) \n",
    "#knitr::opts_knit$set(root.dir=normalizePath('..//')) "
   ]
  },
  {
   "cell_type": "markdown",
   "metadata": {
    "application/vnd.databricks.v1+cell": {
     "cellMetadata": {
      "byteLimit": 2048000,
      "rowLimit": 10000
     },
     "inputWidgets": {},
     "nuid": "4f6e59d3-9d7f-46ea-8299-04c3879a6e0e",
     "showTitle": false,
     "title": ""
    }
   },
   "source": [
    "## R Package Installation"
   ]
  },
  {
   "cell_type": "code",
   "execution_count": 0,
   "metadata": {
    "application/vnd.databricks.v1+cell": {
     "cellMetadata": {
      "byteLimit": 2048000,
      "rowLimit": 10000
     },
     "inputWidgets": {},
     "nuid": "cba8110e-a09b-4b54-9b36-938f3f126edc",
     "showTitle": false,
     "title": ""
    }
   },
   "outputs": [],
   "source": [
    "%r\n",
    "#{r eval=FALSE}\n",
    "if (!requireNamespace(\"BiocManager\", quietly=TRUE))\n",
    "    install.packages(\"BiocManager\")\n",
    "BiocManager::install(\"SNPRelate\")"
   ]
  },
  {
   "cell_type": "code",
   "execution_count": 0,
   "metadata": {
    "application/vnd.databricks.v1+cell": {
     "cellMetadata": {
      "byteLimit": 2048000,
      "rowLimit": 10000
     },
     "inputWidgets": {},
     "nuid": "6a10b921-bcfe-4e2e-9160-85660f468d56",
     "showTitle": false,
     "title": ""
    }
   },
   "outputs": [],
   "source": [
    "%r\n",
    "install.packages('writexl')"
   ]
  },
  {
   "cell_type": "markdown",
   "metadata": {
    "application/vnd.databricks.v1+cell": {
     "cellMetadata": {
      "byteLimit": 2048000,
      "rowLimit": 10000
     },
     "inputWidgets": {},
     "nuid": "ecd3da3f-c6b6-483e-bada-78e0a248e22f",
     "showTitle": false,
     "title": ""
    }
   },
   "source": [
    "## Load R Packages"
   ]
  },
  {
   "cell_type": "code",
   "execution_count": 0,
   "metadata": {
    "application/vnd.databricks.v1+cell": {
     "cellMetadata": {
      "byteLimit": 2048000,
      "rowLimit": 10000
     },
     "inputWidgets": {},
     "nuid": "2e1317b6-be91-486e-b4c3-9ffec0f2969b",
     "showTitle": false,
     "title": ""
    }
   },
   "outputs": [],
   "source": [
    "%r\n",
    "#{r}\n",
    "library(\"data.table\")\n",
    "library(\"gdsfmt\")\n",
    "library(\"SNPRelate\")\n",
    "library(\"plyr\")\n",
    "library(\"writexl\")\n"
   ]
  },
  {
   "cell_type": "code",
   "execution_count": 0,
   "metadata": {
    "application/vnd.databricks.v1+cell": {
     "cellMetadata": {
      "byteLimit": 2048000,
      "rowLimit": 10000
     },
     "inputWidgets": {},
     "nuid": "08683143-1779-4b67-8241-ffe152c70960",
     "showTitle": false,
     "title": ""
    }
   },
   "outputs": [],
   "source": [
    "%r\n",
    "\n",
    "getmatch <- function(df, cutoff=0.9, outprefix=\"reports/result_c0.9\", verbose=TRUE){\n",
    "  # df: a data.frame contains IBS results\n",
    "  # cutoff: IBS cutoff for a matching \n",
    "  nref <- length(unique(df$FID1))\n",
    "  nfield <- length(unique(df$FID2))\n",
    "  sub <- df[df$IBS > cutoff, ]\n",
    "  out <- sub[, c(\"FID2\", \"FID1\", \"IBS\")]\n",
    "  names(out) <- c(\"field_id\", \"ref_id\", \"IBS\")\n",
    "  out <- out[with(out, order(field_id, -IBS)),]\n",
    "\n",
    "  #res <- ddply(out, .(field_id), nrow)\n",
    "\tres <- data.frame(table(out$field_id))\n",
    "  \n",
    "  \n",
    "  if (verbose) {\n",
    "\tmessage(sprintf(\"# Matching [ n=%s ] field samples with [ n=%s ] ref samples using [ IBS cutoff=%s ] ...\", nfield, nref, cutoff))\n",
    "\tmessage(sprintf(\"# As a result, [ n=%s/%s ] field samples matched with at least one ref samples (on average matching [n= %s] refs)!\", \n",
    "      nrow(res), nfield, round(mean(res$Freq), 1)))\n",
    "  }\n",
    "  \n",
    "  if(is.null(outprefix)){\n",
    "    if (verbose) message(sprintf(\"# return a list \"))\n",
    "  } else {\n",
    "    long_res <- paste0(outprefix, \"_all_matches.csv\")\n",
    "    data.table::fwrite(out, long_res, sep=\",\", row.names = FALSE, quote=FALSE)\n",
    "  }\n",
    "  \n",
    "  out1 <- out[!duplicated(out$field_id),]\n",
    "  \n",
    "  if(is.null(outprefix)){\n",
    "    return(list(out, out1))\n",
    "  }else{\n",
    "    best_res <- paste0(outprefix, \"_best.csv\")\n",
    "    data.table::fwrite(out1, best_res, sep=\",\", row.names = FALSE, quote=FALSE)\n",
    "    if (verbose) message(sprintf(\"# Output files: All matches [ %s ] & Best matches [ %s ]\", long_res, best_res))\n",
    "  }\n",
    "}\n",
    "\n",
    "# rescale x from 0 to 1\n",
    "rescale01 <- function(x) {                              \n",
    "  # Create user-defined function\n",
    "  (x - min(x)) / (max(x) - min(x))\n",
    "}\n",
    "\n",
    "het_rate <- function(x){\n",
    "  a <- as.data.frame(table(x))\n",
    "  b <- merge(data.frame(x=c(0,1,2,3), val=c(0,0,0,0)), a, by=\"x\", all.x=TRUE)\n",
    "  if(nrow(a) < 4){\n",
    "    b[is.na(b$Freq), ]$Freq <- 0\n",
    "  }\n",
    "  return(b[b$x==1,]$Freq/(b[b$x==0,]$Freq + b[b$x==1,]$Freq + b[b$x==2,]$Freq))\n",
    "}\n",
    "\n",
    "ref_field_IBS <- function(ref_file, field_file, MAF_cutoff, SNP_Missing_Rate, \n",
    "\t\tSample_Missing_Rate, IBS_cutoff, outdir, out_prefix, Inb_method = \"mom.visscher\", \n",
    "\t\tcpus=1, verbose=TRUE){\n",
    "  # Inb_method=c(\"mom.weir\", \"mom.visscher\", \"mle\", \"gcta1\", \"gcta2\", \"gcta3\"),\n",
    " \n",
    "\tref <- data.table::fread(ref_file)\n",
    "\tfield <- data.table::fread(field_file)\n",
    "  \n",
    "\tif (verbose) {\n",
    "\t\tmessage(sprintf(\"#ref data: [ %s ] rows and [ %s ] columns\",  nrow(ref), ncol(ref)))\n",
    "\t\tmessage(sprintf(\"#field data: [ %s ] rows and [ %s ] columns\",  nrow(field), ncol(field)))\n",
    "\t}\n",
    "  \n",
    "\tstopifnot(nrow(ref) == nrow(field))\n",
    "  \n",
    "\tnames(ref)[1:3] <- c(\"SNPID\", \"Chr\", \"Pos\")\n",
    "\tref.id = names(ref)[-c(1:3)]\n",
    "\n",
    "\tif (verbose) {\n",
    "\t\tmessage(sprintf(\"# The first three columns ref are: [ (1) %s, (2) %s, (3) %s ]; \\n\n",
    "           and renamed to [ (1) SNPID, (2) Chr, (3) Pos]\",  names(ref)[1], names(ref)[2], names(ref)[3]))\n",
    "  \n",
    "\t\tmessage(sprintf(\"# The first three columns of the field data are: [ (1) %s, (2) %s, (3) %s ];\\n\n",
    "            and renamed to [ (1) SNPID, (2) Chr, (3) Pos]\",  names(field)[1], names(field)[2], names(field)[3]))\n",
    "\t}\n",
    "\tnames(field)[1:3] <- c(\"SNPID\", \"Chr\", \"Pos\")\n",
    "\tfield.id=names(field)[-c(1:3)]\n",
    "  \n",
    "  \n",
    "  df9 <- merge(ref, field[, -2:-3], by=\"SNPID\")\n",
    "  \n",
    "  meta1 <- data.frame(Metric=c(\"Marker Total Ref\", \"Marker Total Sample\",  \"Marker Common\"), \n",
    "                      Value=c(nrow(ref), nrow(field), nrow(df9)))\n",
    "  \n",
    "  ### recode SNP to be the number of A alleles\n",
    "  # There are four possible values stored in the variable genotype: 0, 1, 2 and 3. \n",
    "  # For bi-allelic SNP sites, “0” indicates two B alleles, “1” indicates one A allele and one B allele, “2” indicates \n",
    "  # two A alleles, and “3” is a missing genotype. \n",
    "  # For multi-allelic sites, it is a count of the reference allele (3 meaning no call). \n",
    "  # “Bit2” indicates that each byte encodes up to four SNP genotypes since one byte consists of eight bits.\n",
    "  tem <- df9[, -c(1:3)]\n",
    "  tem[tem == \"-\"] <- 3 # - to missing\n",
    "  tem[tem == 2] <- 9 # 2 het to 9 temperately\n",
    "  tem[tem == 1] <- 2 # 1 homo alt to 2\n",
    "  tem[tem == 9] <- 1 # 9 het back to 1\n",
    "  df0 <- cbind(df9[, 1:3], tem)\n",
    "  \n",
    "  df <- apply(df0[,-c(1:3)], 2, as.numeric)\n",
    "  # calculate het rate\n",
    "  h <- apply(df, 2, het_rate)\n",
    "  \n",
    "   dir.create(outdir, FALSE, TRUE)\n",
    "  \n",
    "  obj_gds <- file.path(outdir, paste0(out_prefix, \"_geno.gds\"))\n",
    "  ## create a gds file\n",
    "  snpgdsCreateGeno(obj_gds, genmat = df,\n",
    "                   sample.id = names(df0)[-c(1:3)], snp.id = df0$SNPID,\n",
    "                   snp.chromosome = df0$Chr,\n",
    "                   snp.position = df0$Pos,\n",
    "                   snp.allele = NULL, snpfirstdim=TRUE)\n",
    "  \n",
    "  \n",
    "  # open the gbs obj\n",
    "  genofile <- snpgdsOpen(obj_gds)\n",
    "  \n",
    "  # calculate SNP maf and missing rate\n",
    "  frq <- snpgdsSNPRateFreq(genofile, sample.id=NULL, snp.id=NULL, with.id=TRUE)\n",
    "  d <- data.frame(snpid=frq$snp.id, maf=frq$MinorFreq, mr=frq$MissingRate)\n",
    "  d0 <- subset(d, maf >= MAF_cutoff & mr <= SNP_Missing_Rate)\n",
    "  snpmr <- d\n",
    "  \n",
    "  # calculate sample missing rate\n",
    "  sm <- snpgdsSampMissRate(genofile, sample.id=field.id, snp.id=d0$snpid, with.id=TRUE)\n",
    "  s <- as.data.frame(sm)\n",
    "  s0 <- subset(s, sm <= Sample_Missing_Rate)\n",
    "  meta2 <- data.frame(Metric=c(\"Marker MAF Cutoff\", \"Marker Missing Cutoff\", \"Marker Final\", \"Marker Final Coverage\", \n",
    "                               \"Ref Entries Total\", \"Field Sample Total\", \"Sample Missing Cutoff\", \"Sample Final\"), \n",
    "                     Value=c(MAF_cutoff, SNP_Missing_Rate, nrow(d0), \".\",\n",
    "                             ncol(ref)-3, ncol(field)-3, Sample_Missing_Rate, nrow(s0)))\n",
    "  \n",
    "  # calculate inbreeding coefficient and then heterozygocity\n",
    "  inb <- snpgdsIndInb(genofile, sample.id=row.names(s0), snp.id=d0$snp.id, autosome.only=FALSE,remove.monosnp=TRUE,\n",
    "                      maf=NaN,missing.rate=NaN, \n",
    "                      method=Inb_method, \n",
    "                      allele.freq=NULL, out.num.iter=TRUE,verbose=TRUE)\n",
    "  \n",
    "  # normalize the range between 0 and 1\n",
    "  ic <- data.frame(sid=inb$sample.id, inb=inb$inbreeding)\n",
    "  rg <- range(range(ic$inb))\n",
    "  if(rg[1] < 0){\n",
    "    ic[inb$inb < 0, ]$inb = 0\n",
    "  }\n",
    "  if(rg[2] > 1){\n",
    "    ic[inb$inb >1, ]$inb = 1\n",
    "  }\n",
    "  ic$het <- 1 - ic$inb\n",
    "  #range(ic$inb)\n",
    "  h1 <- as.data.frame(h)\n",
    "  h1$sid <- row.names(h1)\n",
    "  ic <- merge(ic, h1, by=\"sid\")\n",
    "  meta3 <- data.frame(Metric=c(\"Sample Het Avg\", \"Sample Het SD\", \"Sample Het Max\", \"Sample Het Min\"), \n",
    "                      Value=c(mean(ic$h), sd(ic$h), max(ic$h), min(ic$h) ))\n",
    "  \n",
    "  # calculate pair-wise IBS\n",
    "  ibs <- snpgdsIBS(genofile, num.thread=cpus, autosome.only=FALSE, maf= MAF_cutoff, missing.rate=SNP_Missing_Rate)\n",
    "  out <- ibs[[3]]\n",
    "  dimnames(out) <- dimnames(out) <- list(names(df0)[-c(1:3)], names(df0)[-c(1:3)])\n",
    "  xy <- t(combn(colnames(out), 2))\n",
    "  \n",
    "  # convert to data.frame\n",
    "  d <- data.frame(xy, dist=out[xy])\n",
    "  names(d) <- c(\"ref\", \"field\", \"IBS\")\n",
    "  \n",
    "  # subset ref vs. field\n",
    "  d$type1 <-  \"field\"\n",
    "  d$type2 <- \"ref\"\n",
    "  d[d$ref %in% names(ref)[-c(1:3)], ]$type1 <- \"ref\"\n",
    "  d[d$field %in% names(field)[-c(1:3)], ]$type2 <- \"field\"\n",
    "  \n",
    "  d <- subset(d, type1 == \"ref\" & type2 ==\"field\")\n",
    "  \n",
    "  names(d)[1:3] <- c(\"FID1\", \"FID2\", \"IBS\")\n",
    "  \n",
    "  meta <- rbind(meta1, meta2, meta3)\n",
    "  outlist <- list()\n",
    "  outlist[[\"metadata\"]] <- meta\n",
    "  #iidx = 1\n",
    "  for(i in IBS_cutoff){\n",
    "    lout <- getmatch(d, cutoff=i, outprefix=NULL, verbose=verbose)\n",
    "    \n",
    "    ### best match\n",
    "    best_match <- paste0(\"IBS_cutoff_\", i, \"_best_match\")\n",
    "    lout2 <- merge(lout[[2]], sm, by.x=\"field_id\", by.y=\"row.names\", all.y=T)\n",
    "    names(lout2)[4] <- \"Sample_SNP_Missing_Rate\"\n",
    "    outlist[[best_match]] <- lout2\n",
    "    #iidx <- iidx + 1\n",
    "    \n",
    "    all_match <- paste0(\"IBS_cutoff_\", i, \"_all_match\")\n",
    "    outlist[[all_match]] <- lout[[1]]\n",
    "    \n",
    "    report <- plyr::ddply(lout[[1]], .(field_id), summarise,\n",
    "                    avg = mean(IBS, na.rm=TRUE),\n",
    "                    sd = sd(IBS, na.rm=TRUE))\n",
    "    nr <- plyr::ddply(lout[[1]], .(field_id), nrow)\n",
    "    meta4 <- data.frame(Metric=c(paste0(\"Samples with match using IBS=\",i), paste0(\"Avg number matches per sample using IBS=\",i), paste0(\"Avg of IBS value with IBS=\", i), paste0(\"SD of IBS value with IBS=\", i)), \n",
    "       Value=c(nrow(report), mean(nr$V1), mean(report$avg, na.rm = TRUE), mean(report$sd, na.rm = TRUE) ))\n",
    "    meta <- rbind(meta, meta4)\n",
    "  }\n",
    "  outlist[[\"metadata\"]] <- meta\n",
    "  outlist[[\"snpinfo\"]] <- snpmr\n",
    "  \n",
    "  snpgdsClose(genofile)\n",
    "  \n",
    "  #file.remove(obj_gds)\n",
    "  \n",
    "  xlsx <- file.path(outdir, paste0(out_prefix, \"_matches.xlsx\"))\n",
    "  writexl::write_xlsx(outlist, xlsx)\n",
    "  if (verbose) message(sprintf(\"# Analysis Finished !!! results can be found in excel file [ %s ]\", xlsx))\n",
    "}"
   ]
  },
  {
   "cell_type": "markdown",
   "metadata": {
    "application/vnd.databricks.v1+cell": {
     "cellMetadata": {
      "byteLimit": 2048000,
      "rowLimit": 10000
     },
     "inputWidgets": {},
     "nuid": "1ea6b655-fbb5-4124-a9fa-25a5bfd98d40",
     "showTitle": false,
     "title": ""
    }
   },
   "source": [
    "## Setting input files and IBS Parameters\n",
    "Note that the input data is in DArT format with the following SNP coding: - 0 homo ref - 1 homo alt - 2 het"
   ]
  },
  {
   "cell_type": "code",
   "execution_count": 0,
   "metadata": {
    "application/vnd.databricks.v1+cell": {
     "cellMetadata": {
      "byteLimit": 2048000,
      "rowLimit": 10000
     },
     "inputWidgets": {},
     "nuid": "e08486e3-7489-43e9-b758-58c03195e7d3",
     "showTitle": false,
     "title": ""
    }
   },
   "outputs": [],
   "source": [
    "%r\n",
    "## \n",
    "## The prefix of the output file\n",
    "#country = \"Ethiopia\"\n",
    "#crop = \"Teff\"\n",
    "\n",
    "\n",
    "# to use the SNPs with \">= maf\" only\n",
    "# choose your SNP minor allele frequency often 0.05 is used in the literature\n",
    "MAF_cutoff = 0.05\n",
    "\n",
    "# to use the SNPs with \"<= missing.rate\" only\n",
    "# choose your SNP missing rate 0.9 is a loose criteria, 0.2 is a stringent criteria\n",
    "SNP_Missing_Rate = 0.2\n",
    "\n",
    "\n",
    "\n",
    "# to use the samples with \"<= missing.rate\" only\n",
    "# choose to exclude samples based on their level of missing data. 0.2 is a conservative criteria\n",
    "Sample_Missing_Rate = 0.2\n",
    "\n",
    "\n",
    "# IBS cutoff\n",
    "# Set the IBS cutoff to output pairwise matches with >= cutoff set, Post processing will enable dataslices, Option to output multiple levels by increment manually or sequentially. Recommend selecting single cutoff\n",
    "IBS_cutoff <- c(0.8)\n",
    "#IBS_cutoff <- seq(from=0.70, to=0.95, by=0.05)\n",
    "\n",
    "## filenames \n",
    "out_prefix = paste0(country, \"_\", crop)\n",
    "# - input files:  including ref and field datasets\n",
    "#  ref data\n",
    "#ref_file = paste0(\"data/raw/matching/\", country, \"/GeneticReference_\", out_prefix, \".csv\")\n",
    "# field data\n",
    "#field_file = gsub(\"GeneticReference\", \"FieldSamples\", ref_file)\n",
    "# - output path and prefix\n",
    "#outdir = \"data/ibs\"\n",
    "\n",
    "\n",
    "ref_field_IBS(ref_file_path, field_file_path, MAF_cutoff, \n",
    "              SNP_Missing_Rate, Sample_Missing_Rate, IBS_cutoff,\n",
    "              outdir, out_prefix, cpus=1, verbose=TRUE)"
   ]
  },
  {
   "cell_type": "code",
   "execution_count": 0,
   "metadata": {
    "application/vnd.databricks.v1+cell": {
     "cellMetadata": {
      "byteLimit": 2048000,
      "rowLimit": 10000
     },
     "inputWidgets": {},
     "nuid": "9e98b8a1-f3f8-440f-9229-1d3a17193ab0",
     "showTitle": false,
     "title": ""
    }
   },
   "outputs": [],
   "source": [
    "%r\n",
    "#list.files(\"output/\")\n",
    "dbutils.fs.cp(paste0(\"file:\", getwd(), \"/output/\", country, \"_\", crop, \"_matches.xlsx\"), paste0(\"s3://cg-test-bucket-1000/databricks/output/\", jobid, \"/\", country, crop, \"_matches.xlsx\"))"
   ]
  },
  {
   "cell_type": "code",
   "execution_count": 0,
   "metadata": {
    "application/vnd.databricks.v1+cell": {
     "cellMetadata": {},
     "inputWidgets": {},
     "nuid": "d7330fe9-9915-444b-a3a0-3564dde7a757",
     "showTitle": false,
     "title": ""
    }
   },
   "outputs": [],
   "source": [
    "%r\n",
    "#output_path = paste0('s3://cg-test-bucket-1000/databricks/output/', str(jobid), '/')\n",
    "#dbutils.fs.cp(outdir, output_path)"
   ]
  }
 ],
 "metadata": {
  "application/vnd.databricks.v1+notebook": {
   "dashboards": [],
   "language": "python",
   "notebookMetadata": {
    "pythonIndentUnit": 4
   },
   "notebookName": "IBS_Analysis",
   "widgets": {}
  }
 },
 "nbformat": 4,
 "nbformat_minor": 0
}
